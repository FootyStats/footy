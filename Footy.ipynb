{
 "cells": [
  {
   "cell_type": "markdown",
   "metadata": {},
   "source": [
    "Competitions included in this report:\n"
   ]
  },
  {
   "cell_type": "code",
   "execution_count": 1,
   "metadata": {},
   "outputs": [],
   "source": [
    "# Enable PEP8 code checking.\n",
    "%load_ext pycodestyle_magic\n",
    "\n",
    "%pycodestyle_on"
   ]
  },
  {
   "cell_type": "code",
   "execution_count": 2,
   "metadata": {},
   "outputs": [
    {
     "name": "stderr",
     "output_type": "stream",
     "text": [
      "140:1: W293 blank line contains whitespace\n"
     ]
    },
    {
     "name": "stdout",
     "output_type": "stream",
     "text": [
      "- Bundesliga (DE)\n",
      "- Série A (BR)\n",
      "- Eredivisie (NE)\n",
      "- Championship (UK)\n",
      "- Ligue 1 (FR)\n",
      "- Primera Division (ES)\n",
      "- Premier League (UK)\n",
      "- Primeira Liga (PT)\n",
      "- Serie A (IT)\n"
     ]
    }
   ],
   "source": [
    "import matplotlib.pyplot as plt\n",
    "import pandas as pd\n",
    "import time\n",
    "import yaml\n",
    "\n",
    "from football_data_api import data_fetchers\n",
    "from footy import Footy\n",
    "from footy.domain.Fixture import Fixture\n",
    "from footy.domain.Team import Team\n",
    "\n",
    "with open('footy.yml') as stream:\n",
    "    footy_data = yaml.safe_load(stream.read())\n",
    "\n",
    "\n",
    "def extract_team_names_from_matches(matches):\n",
    "    team_names = []\n",
    "\n",
    "    for match in matches:\n",
    "        away_team_name = match['awayTeam']['name']\n",
    "        home_team_name = match['homeTeam']['name']\n",
    "\n",
    "        for team_name in [away_team_name, home_team_name]:\n",
    "            if team_name not in team_names:\n",
    "                team_names.append(team_name)\n",
    "\n",
    "    return sorted(team_names)\n",
    "\n",
    "\n",
    "def moving_average(x, w=3):\n",
    "    a = (np.convolve(x, np.ones(w), 'valid') / w).tolist()\n",
    "    return x.tolist()[0:w - 1] + a\n",
    "\n",
    "\n",
    "def process_competition_page(competition_code):\n",
    "    time.sleep(10)  # Throttle calls to the Football Data API\n",
    "    teams = []\n",
    "    football_data_api = data_fetchers.CompetitionData()\n",
    "    widget = footy_data['competitions'][competition_code]\n",
    "    competition_name = widget['competition_name']\n",
    "    football_data_api.competition = competition_name\n",
    "    matches_data = football_data_api.get_info('matches')\n",
    "    team_names = extract_team_names_from_matches(matches_data['matches'])\n",
    "    match = matches_data['matches'][0]\n",
    "    current_match_day = match['season']['currentMatchday']\n",
    "    footy = Footy()\n",
    "    total_goals_scored_by_home_team = 0\n",
    "    total_goals_scored_by_away_team = 0\n",
    "    total_games = 0\n",
    "\n",
    "    for team_name in team_names:\n",
    "        team = Team(team_name)\n",
    "        footy.add_team(team)\n",
    "\n",
    "    for match_day in range(0, current_match_day):\n",
    "        fixture_params = []\n",
    "\n",
    "        for match in matches_data['matches']:\n",
    "            match_status = match['status']\n",
    "\n",
    "            if match['matchday'] != match_day:\n",
    "                continue\n",
    "            elif match_status != 'FINISHED':\n",
    "                continue\n",
    "            elif match['stage'] != 'REGULAR_SEASON':\n",
    "                continue\n",
    "\n",
    "            total_games += 1\n",
    "            home_team_name = match['homeTeam']['name']\n",
    "            home_team = footy.get_team(home_team_name)\n",
    "            home_team_goals = match['score']['fullTime']['homeTeam']\n",
    "            away_team_goals = match['score']['fullTime']['awayTeam']\n",
    "            goals_for = match['score']['fullTime']['homeTeam']\n",
    "            total_goals_scored_by_home_team += goals_for\n",
    "            goals_for += home_team.goals_for()\n",
    "            goals_against = match['score']['fullTime']['awayTeam']\n",
    "            total_goals_scored_by_away_team += goals_against\n",
    "            goals_against += home_team.goals_against()\n",
    "            home_games = home_team.home_games() + 1\n",
    "            points = home_team.points()\n",
    "\n",
    "            if home_team_goals > away_team_goals:\n",
    "                points += 3\n",
    "                outcome = [1, 0, 0]\n",
    "            elif home_team_goals == away_team_goals:\n",
    "                points += 1\n",
    "                outcome = [0, 1, 0]\n",
    "            else:\n",
    "                outcome = [0, 0, 1]\n",
    "\n",
    "            home_team.goals_for(goals_for)\n",
    "            home_team.goals_against(goals_against)\n",
    "            home_team.home_games(home_games)\n",
    "            home_team.points(points)\n",
    "\n",
    "            away_team_name = match['awayTeam']['name']\n",
    "            away_team = footy.get_team(away_team_name)\n",
    "            fixture_params.append((home_team_name, away_team_name))\n",
    "            goals_for = away_team_goals\n",
    "            goals_for += away_team.goals_for()\n",
    "            goals_against = match['score']['fullTime']['awayTeam']\n",
    "            goals_against += away_team.goals_against()\n",
    "            away_games = away_team.away_games() + 1\n",
    "            points = away_team.points()\n",
    "\n",
    "            if home_team_goals < away_team_goals:\n",
    "                points += 3\n",
    "            elif home_team_goals == away_team_goals:\n",
    "                points += 1\n",
    "\n",
    "            away_team.goals_for(goals_for)\n",
    "            away_team.goals_against(goals_against)\n",
    "            away_team.away_games(away_games)\n",
    "            away_team.points(points)\n",
    "\n",
    "            footy.add_team(home_team)\n",
    "            footy.add_team(away_team)\n",
    "            total_goals_scored_by_home_team += home_team_goals\n",
    "            total_goals_scored_by_away_team += away_team_goals\n",
    "\n",
    "        if total_games > 0:\n",
    "            average_goals_scored_by_a_home_team = \\\n",
    "                total_goals_scored_by_home_team\n",
    "            average_goals_scored_by_a_home_team /= total_games\n",
    "            footy.average_goals_scored_by_a_home_team(\n",
    "                average_goals_scored_by_a_home_team)\n",
    "\n",
    "            average_goals_scored_by_an_away_team = \\\n",
    "                total_goals_scored_by_away_team\n",
    "            average_goals_scored_by_an_away_team /= total_games\n",
    "            footy.average_goals_scored_by_an_away_team(\n",
    "                average_goals_scored_by_an_away_team)\n",
    "\n",
    "        for team_name in footy.get_team_names():\n",
    "            team = footy.get_team(team_name)\n",
    "            attack_strength = footy.attack_strength(team)\n",
    "            defence_factor = footy.defence_factor(team)\n",
    "            team.historic_attack_strength(attack_strength)\n",
    "            team.historic_defence_factor(defence_factor)\n",
    "            footy.add_team(team)\n",
    "\n",
    "        for fixture_param in fixture_params:\n",
    "            (home_team_name, away_team_name) = fixture_param\n",
    "            home_team = footy.get_team(home_team_name)\n",
    "            away_team = footy.get_team(away_team_name)\n",
    "            fixture = footy.fixture(home_team, away_team)\n",
    "\n",
    "            y_prob = fixture.outcome_probabilities()\n",
    "\n",
    "            if y_prob is not None:\n",
    "                print(f'DEBUG: y_prob {y_prob}')\n",
    "                brier_score = footy.brier_score(outcome, y_prob)\n",
    "                home_team.historic_briers_score(brier_score)\n",
    "                footy.add_team(home_team)\n",
    "                away_team.historic_briers_score(brier_score)\n",
    "                footy.add_team(away_team)\n",
    "\n",
    "    return footy\n",
    "\n",
    "\n",
    "def show_league_table(footy):\n",
    "    df = footy.dataframe().rename(columns={\n",
    "        'attack_strength': 'AS',\n",
    "        'away_games': 'AG',\n",
    "        'defence_factor': 'DF',\n",
    "        'goal_difference': 'GD',\n",
    "        'goals_against': 'GA',\n",
    "        'goals_for': 'GF',\n",
    "        'home_games': 'HG',\n",
    "        'points': 'PTS'\n",
    "    })\n",
    "    print(df)\n",
    "    print('')\n",
    "    print('Keys:')\n",
    "    print(' - AS = Attack Strength')\n",
    "    print(' - AG = Away Games Played')\n",
    "    print(' - DF = Defence Factor')\n",
    "    print(' - GA = Goals Against')\n",
    "    print(' - GD = Goal Difference')\n",
    "    print(' - GF = Goals For')\n",
    "    print(' - HG = Home Games')\n",
    "    print(' - PTS = Points')\n",
    "\n",
    "\n",
    "def show_team(team):\n",
    "    team_name = team.team_name()\n",
    "    outcomes_briers_scores = team.historic_briers_score()\n",
    "\n",
    "    if len(outcomes_briers_scores) >= 3:\n",
    "        briers_scores_outcomes_ma3 = moving_average(outcomes_briers_scores)\n",
    "    else:\n",
    "        briers_scores_outcomes_ma3 = None\n",
    "\n",
    "    fig, (ax1, ax2) = plt.subplots(1, 2)\n",
    "    fig.suptitle(team_name)\n",
    "\n",
    "    if len(outcomes_briers_scores) > 0:\n",
    "        label = f'Briers Score: {outcomes_briers_scores[-1]}'\n",
    "    else:\n",
    "        label = 'Briers Score'\n",
    "\n",
    "    ax1.plot(outcomes_briers_scores, label=label)\n",
    "    ax1.legend()\n",
    "    ax1.set_ylim(0.0, 2.0)\n",
    "    ax1.set(xlabel='Games', title='Briers Scores')\n",
    "\n",
    "    attack_strengths = team.historic_attack_strength()\n",
    "    defence_factors = team.historic_defence_factor()\n",
    "    ax2.plot(attack_strengths, label='Attack Strengths')\n",
    "    ax2.plot(defence_factors, label='Defence Factors')\n",
    "    ax2.legend()\n",
    "    ax2.set(xlabel='Games', title='Attack Strengh/Defence Factor')\n",
    "    ax2.grid()\n",
    "\n",
    "\n",
    "def show_teams(footy):\n",
    "    for team_name in footy.get_team_names():\n",
    "        team = footy.get_team(team_name)\n",
    "        show_team(team)\n",
    "\n",
    "\n",
    "for competition_code in footy_data['competitions']:\n",
    "    widget = footy_data['competitions'][competition_code]\n",
    "    competition_name = widget['competition_name']\n",
    "    bbc_table = widget['bbc_table_site']\n",
    "    country = widget['country']\n",
    "    print(f'- {competition_name} ({country})')"
   ]
  },
  {
   "cell_type": "markdown",
   "metadata": {},
   "source": [
    "![http://creativecommons.org/licenses/by-sa/4.0/](images/cc-by-sa-80x15.png)\n",
    "\n",
    "This work is licensed under a [Creative Commons Attribution-ShareAlike 4.0 International License](http://creativecommons.org/licenses/by-sa/4.0/)."
   ]
  },
  {
   "cell_type": "markdown",
   "metadata": {},
   "source": [
    "<div style=\"page-break-after: always; visibility: hidden\"> \n",
    "\\pagebreak \n",
    "</div>\n",
    "\n",
    "# German Bundesliga\n",
    "\n",
    "## League Table"
   ]
  },
  {
   "cell_type": "code",
   "execution_count": 3,
   "metadata": {},
   "outputs": [
    {
     "name": "stdout",
     "output_type": "stream",
     "text": [
      "DEBUG: y_prob [6.67, 5.13, 9.48]\n"
     ]
    },
    {
     "ename": "ValueError",
     "evalue": "y_prob contains values greater than 1.",
     "output_type": "error",
     "traceback": [
      "\u001b[0;31m---------------------------------------------------------------------------\u001b[0m",
      "\u001b[0;31mValueError\u001b[0m                                Traceback (most recent call last)",
      "\u001b[0;32m<ipython-input-3-676b3ad84fc8>\u001b[0m in \u001b[0;36m<module>\u001b[0;34m\u001b[0m\n\u001b[0;32m----> 1\u001b[0;31m \u001b[0mfooty\u001b[0m \u001b[0;34m=\u001b[0m \u001b[0mprocess_competition_page\u001b[0m\u001b[0;34m(\u001b[0m\u001b[0;34m'BL1'\u001b[0m\u001b[0;34m)\u001b[0m\u001b[0;34m\u001b[0m\u001b[0;34m\u001b[0m\u001b[0m\n\u001b[0m\u001b[1;32m      2\u001b[0m \u001b[0mshow_league_table\u001b[0m\u001b[0;34m(\u001b[0m\u001b[0mfooty\u001b[0m\u001b[0;34m)\u001b[0m\u001b[0;34m\u001b[0m\u001b[0;34m\u001b[0m\u001b[0m\n",
      "\u001b[0;32m<ipython-input-2-53647334b805>\u001b[0m in \u001b[0;36mprocess_competition_page\u001b[0;34m(competition_code)\u001b[0m\n\u001b[1;32m    149\u001b[0m             \u001b[0;32mif\u001b[0m \u001b[0my_prob\u001b[0m \u001b[0;32mis\u001b[0m \u001b[0;32mnot\u001b[0m \u001b[0;32mNone\u001b[0m\u001b[0;34m:\u001b[0m\u001b[0;34m\u001b[0m\u001b[0;34m\u001b[0m\u001b[0m\n\u001b[1;32m    150\u001b[0m                 \u001b[0mprint\u001b[0m\u001b[0;34m(\u001b[0m\u001b[0;34mf'DEBUG: y_prob {y_prob}'\u001b[0m\u001b[0;34m)\u001b[0m\u001b[0;34m\u001b[0m\u001b[0;34m\u001b[0m\u001b[0m\n\u001b[0;32m--> 151\u001b[0;31m                 \u001b[0mbrier_score\u001b[0m \u001b[0;34m=\u001b[0m \u001b[0mfooty\u001b[0m\u001b[0;34m.\u001b[0m\u001b[0mbrier_score\u001b[0m\u001b[0;34m(\u001b[0m\u001b[0moutcome\u001b[0m\u001b[0;34m,\u001b[0m \u001b[0my_prob\u001b[0m\u001b[0;34m)\u001b[0m\u001b[0;34m\u001b[0m\u001b[0;34m\u001b[0m\u001b[0m\n\u001b[0m\u001b[1;32m    152\u001b[0m                 \u001b[0mhome_team\u001b[0m\u001b[0;34m.\u001b[0m\u001b[0mhistoric_briers_score\u001b[0m\u001b[0;34m(\u001b[0m\u001b[0mbrier_score\u001b[0m\u001b[0;34m)\u001b[0m\u001b[0;34m\u001b[0m\u001b[0;34m\u001b[0m\u001b[0m\n\u001b[1;32m    153\u001b[0m                 \u001b[0mfooty\u001b[0m\u001b[0;34m.\u001b[0m\u001b[0madd_team\u001b[0m\u001b[0;34m(\u001b[0m\u001b[0mhome_team\u001b[0m\u001b[0;34m)\u001b[0m\u001b[0;34m\u001b[0m\u001b[0;34m\u001b[0m\u001b[0m\n",
      "\u001b[0;32m~/workspace/FootyStats/footy/footy/__init__.py\u001b[0m in \u001b[0;36mbrier_score\u001b[0;34m(self, y_true, y_prob)\u001b[0m\n\u001b[1;32m    208\u001b[0m         \u001b[0mvolume\u001b[0m \u001b[0;36m79\u001b[0m\u001b[0;34m,\u001b[0m \u001b[0mnumber\u001b[0m \u001b[0;36m1.\u001b[0m\u001b[0;34m\u001b[0m\u001b[0;34m\u001b[0m\u001b[0m\n\u001b[1;32m    209\u001b[0m         \"\"\"\n\u001b[0;32m--> 210\u001b[0;31m         \u001b[0mbs\u001b[0m \u001b[0;34m=\u001b[0m \u001b[0mbrier_score_loss\u001b[0m\u001b[0;34m(\u001b[0m\u001b[0my_true\u001b[0m\u001b[0;34m,\u001b[0m \u001b[0my_prob\u001b[0m\u001b[0;34m)\u001b[0m\u001b[0;34m\u001b[0m\u001b[0;34m\u001b[0m\u001b[0m\n\u001b[0m\u001b[1;32m    211\u001b[0m         \u001b[0mn\u001b[0m \u001b[0;34m=\u001b[0m \u001b[0mlen\u001b[0m\u001b[0;34m(\u001b[0m\u001b[0my_prob\u001b[0m\u001b[0;34m)\u001b[0m\u001b[0;34m\u001b[0m\u001b[0;34m\u001b[0m\u001b[0m\n\u001b[1;32m    212\u001b[0m         \u001b[0;32mreturn\u001b[0m \u001b[0mround\u001b[0m\u001b[0;34m(\u001b[0m\u001b[0mbs\u001b[0m \u001b[0;34m*\u001b[0m \u001b[0mn\u001b[0m\u001b[0;34m,\u001b[0m \u001b[0;36m2\u001b[0m\u001b[0;34m)\u001b[0m\u001b[0;34m\u001b[0m\u001b[0;34m\u001b[0m\u001b[0m\n",
      "\u001b[0;32m~/.pyenv/versions/3.8.2/envs/footy/lib/python3.8/site-packages/sklearn/utils/validation.py\u001b[0m in \u001b[0;36minner_f\u001b[0;34m(*args, **kwargs)\u001b[0m\n\u001b[1;32m     70\u001b[0m                           FutureWarning)\n\u001b[1;32m     71\u001b[0m         \u001b[0mkwargs\u001b[0m\u001b[0;34m.\u001b[0m\u001b[0mupdate\u001b[0m\u001b[0;34m(\u001b[0m\u001b[0;34m{\u001b[0m\u001b[0mk\u001b[0m\u001b[0;34m:\u001b[0m \u001b[0marg\u001b[0m \u001b[0;32mfor\u001b[0m \u001b[0mk\u001b[0m\u001b[0;34m,\u001b[0m \u001b[0marg\u001b[0m \u001b[0;32min\u001b[0m \u001b[0mzip\u001b[0m\u001b[0;34m(\u001b[0m\u001b[0msig\u001b[0m\u001b[0;34m.\u001b[0m\u001b[0mparameters\u001b[0m\u001b[0;34m,\u001b[0m \u001b[0margs\u001b[0m\u001b[0;34m)\u001b[0m\u001b[0;34m}\u001b[0m\u001b[0;34m)\u001b[0m\u001b[0;34m\u001b[0m\u001b[0;34m\u001b[0m\u001b[0m\n\u001b[0;32m---> 72\u001b[0;31m         \u001b[0;32mreturn\u001b[0m \u001b[0mf\u001b[0m\u001b[0;34m(\u001b[0m\u001b[0;34m**\u001b[0m\u001b[0mkwargs\u001b[0m\u001b[0;34m)\u001b[0m\u001b[0;34m\u001b[0m\u001b[0;34m\u001b[0m\u001b[0m\n\u001b[0m\u001b[1;32m     73\u001b[0m     \u001b[0;32mreturn\u001b[0m \u001b[0minner_f\u001b[0m\u001b[0;34m\u001b[0m\u001b[0;34m\u001b[0m\u001b[0m\n\u001b[1;32m     74\u001b[0m \u001b[0;34m\u001b[0m\u001b[0m\n",
      "\u001b[0;32m~/.pyenv/versions/3.8.2/envs/footy/lib/python3.8/site-packages/sklearn/metrics/_classification.py\u001b[0m in \u001b[0;36mbrier_score_loss\u001b[0;34m(y_true, y_prob, sample_weight, pos_label)\u001b[0m\n\u001b[1;32m   2441\u001b[0m                          \"Labels in y_true: %s.\" % labels)\n\u001b[1;32m   2442\u001b[0m     \u001b[0;32mif\u001b[0m \u001b[0my_prob\u001b[0m\u001b[0;34m.\u001b[0m\u001b[0mmax\u001b[0m\u001b[0;34m(\u001b[0m\u001b[0;34m)\u001b[0m \u001b[0;34m>\u001b[0m \u001b[0;36m1\u001b[0m\u001b[0;34m:\u001b[0m\u001b[0;34m\u001b[0m\u001b[0;34m\u001b[0m\u001b[0m\n\u001b[0;32m-> 2443\u001b[0;31m         \u001b[0;32mraise\u001b[0m \u001b[0mValueError\u001b[0m\u001b[0;34m(\u001b[0m\u001b[0;34m\"y_prob contains values greater than 1.\"\u001b[0m\u001b[0;34m)\u001b[0m\u001b[0;34m\u001b[0m\u001b[0;34m\u001b[0m\u001b[0m\n\u001b[0m\u001b[1;32m   2444\u001b[0m     \u001b[0;32mif\u001b[0m \u001b[0my_prob\u001b[0m\u001b[0;34m.\u001b[0m\u001b[0mmin\u001b[0m\u001b[0;34m(\u001b[0m\u001b[0;34m)\u001b[0m \u001b[0;34m<\u001b[0m \u001b[0;36m0\u001b[0m\u001b[0;34m:\u001b[0m\u001b[0;34m\u001b[0m\u001b[0;34m\u001b[0m\u001b[0m\n\u001b[1;32m   2445\u001b[0m         \u001b[0;32mraise\u001b[0m \u001b[0mValueError\u001b[0m\u001b[0;34m(\u001b[0m\u001b[0;34m\"y_prob contains values less than 0.\"\u001b[0m\u001b[0;34m)\u001b[0m\u001b[0;34m\u001b[0m\u001b[0;34m\u001b[0m\u001b[0m\n",
      "\u001b[0;31mValueError\u001b[0m: y_prob contains values greater than 1."
     ]
    }
   ],
   "source": [
    "footy = process_competition_page('BL1')\n",
    "show_league_table(footy)"
   ]
  },
  {
   "cell_type": "markdown",
   "metadata": {},
   "source": [
    "## Teams"
   ]
  },
  {
   "cell_type": "code",
   "execution_count": null,
   "metadata": {},
   "outputs": [],
   "source": [
    "show_teams(footy)"
   ]
  },
  {
   "cell_type": "markdown",
   "metadata": {},
   "source": [
    "<div style=\"page-break-after: always; visibility: hidden\"> \n",
    "\\pagebreak \n",
    "</div>\n",
    "\n",
    "# Brazilian Série A"
   ]
  },
  {
   "cell_type": "code",
   "execution_count": null,
   "metadata": {},
   "outputs": [],
   "source": [
    "# footy = process_competition_page('BSA')\n",
    "# show_league_table(footy)"
   ]
  },
  {
   "cell_type": "markdown",
   "metadata": {},
   "source": [
    "## Teams"
   ]
  },
  {
   "cell_type": "code",
   "execution_count": null,
   "metadata": {},
   "outputs": [],
   "source": [
    "# show_teams(footy)"
   ]
  },
  {
   "cell_type": "markdown",
   "metadata": {},
   "source": [
    "<div style=\"page-break-after: always; visibility: hidden\"> \n",
    "\\pagebreak \n",
    "</div>\n",
    "\n",
    "# Dutch Eredivisie"
   ]
  },
  {
   "cell_type": "code",
   "execution_count": null,
   "metadata": {},
   "outputs": [],
   "source": [
    "# competition = process_competition_page1('DED')"
   ]
  },
  {
   "cell_type": "markdown",
   "metadata": {},
   "source": [
    "<div style=\"page-break-after: always; visibility: hidden\"> \n",
    "\\pagebreak \n",
    "</div>\n",
    "\n",
    "# English Championship"
   ]
  },
  {
   "cell_type": "code",
   "execution_count": null,
   "metadata": {},
   "outputs": [],
   "source": [
    "# competition = process_competition_page1('ELC')"
   ]
  },
  {
   "cell_type": "markdown",
   "metadata": {},
   "source": [
    "<div style=\"page-break-after: always; visibility: hidden\"> \n",
    "\\pagebreak \n",
    "</div>\n",
    "\n",
    "# French Ligue 1"
   ]
  },
  {
   "cell_type": "code",
   "execution_count": null,
   "metadata": {},
   "outputs": [],
   "source": [
    "# competition = process_competition_page1('FL1')"
   ]
  },
  {
   "cell_type": "markdown",
   "metadata": {},
   "source": [
    "<div style=\"page-break-after: always; visibility: hidden\"> \n",
    "\\pagebreak \n",
    "</div>\n",
    "\n",
    "# Spanish Primera Division"
   ]
  },
  {
   "cell_type": "code",
   "execution_count": null,
   "metadata": {},
   "outputs": [],
   "source": [
    "# competition = process_competition_page1('PD')"
   ]
  },
  {
   "cell_type": "markdown",
   "metadata": {},
   "source": [
    "<div style=\"page-break-after: always; visibility: hidden\"> \n",
    "\\pagebreak \n",
    "</div>\n",
    "\n",
    "# English Premier League"
   ]
  },
  {
   "cell_type": "code",
   "execution_count": null,
   "metadata": {},
   "outputs": [],
   "source": [
    "# competition = process_competition_page1('PL')"
   ]
  },
  {
   "cell_type": "markdown",
   "metadata": {},
   "source": [
    "<div style=\"page-break-after: always; visibility: hidden\"> \n",
    "\\pagebreak \n",
    "</div>\n",
    "\n",
    "# Portuguese  Primeira Liga"
   ]
  },
  {
   "cell_type": "code",
   "execution_count": null,
   "metadata": {},
   "outputs": [],
   "source": [
    "# competition = process_competition_page1('PPL')"
   ]
  },
  {
   "cell_type": "markdown",
   "metadata": {},
   "source": [
    "<div style=\"page-break-after: always; visibility: hidden\"> \n",
    "\\pagebreak \n",
    "</div>\n",
    "\n",
    "# Italian Serie A"
   ]
  },
  {
   "cell_type": "code",
   "execution_count": null,
   "metadata": {},
   "outputs": [],
   "source": [
    "# competition = process_competition_page1('SA')"
   ]
  },
  {
   "cell_type": "code",
   "execution_count": null,
   "metadata": {},
   "outputs": [],
   "source": []
  }
 ],
 "metadata": {
  "kernelspec": {
   "display_name": "Python 3",
   "language": "python",
   "name": "python3"
  },
  "language_info": {
   "codemirror_mode": {
    "name": "ipython",
    "version": 3
   },
   "file_extension": ".py",
   "mimetype": "text/x-python",
   "name": "python",
   "nbconvert_exporter": "python",
   "pygments_lexer": "ipython3",
   "version": "3.8.2"
  },
  "title": "Footy Stats"
 },
 "nbformat": 4,
 "nbformat_minor": 4
}
